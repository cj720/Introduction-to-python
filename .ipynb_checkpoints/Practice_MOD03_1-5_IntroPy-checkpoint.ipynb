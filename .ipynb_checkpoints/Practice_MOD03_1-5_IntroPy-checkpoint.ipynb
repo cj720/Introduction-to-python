{
 "cells": [
  {
   "cell_type": "markdown",
   "metadata": {},
   "source": [
    "# 1-5 Intro Python Practice  \n",
    "## conditionals, type, and mathematics extended   \n",
    "&nbsp;\n",
    "<font size=\"5\" color=\"#00A0B2\"  face=\"verdana\"> <B>Student will be able to</B></font>  \n",
    "- code more than two choices using **`elif`** \n",
    "- gather numeric input using type casting  \n",
    "- perform subtraction, multiplication and division operations in code  &nbsp;  \n"
   ]
  },
  {
   "cell_type": "markdown",
   "metadata": {},
   "source": [
    "# &nbsp;  \n",
    "<font size=\"6\" color=\"#B24C00\"  face=\"verdana\"> <B>Tasks</B></font>"
   ]
  },
  {
   "cell_type": "markdown",
   "metadata": {},
   "source": [
    "### Rainbow colors\n",
    "ask for input of a favorite rainbow color first letter: ROYGBIV  \n",
    "\n",
    "Using `if`, `elif`, and `else`:  \n",
    "- print the color matching the letter  \n",
    "    - R = Red  \n",
    "    - O = Orange  \n",
    "    - Y = Yellow  \n",
    "    - G = Green\n",
    "    - B = Blue\n",
    "    - I = Indigo\n",
    "    - V = Violet\n",
    "    - else print \"no match\"\n"
   ]
  },
  {
   "cell_type": "code",
   "execution_count": 3,
   "metadata": {},
   "outputs": [
    {
     "name": "stdout",
     "output_type": "stream",
     "text": [
      "Enter your favourite rainbow color (ROYGBIV):V\n",
      "V = Violet\n"
     ]
    }
   ],
   "source": [
    "# [ ] complete rainbow colors\n",
    "fav_color = input(\"Enter your favourite rainbow color (ROYGBIV):\")\n",
    "\n",
    "if fav_color.upper()=='R':\n",
    "    print(fav_color,\"= Red\") \n",
    "elif fav_color.upper()=='O':\n",
    "    print(fav_color,\"= orange\")\n",
    "elif fav_color.upper()=='Y':\n",
    "    print(fav_color,\"= Yellow\")\n",
    "elif fav_color.upper()=='G':\n",
    "    print(fav_color,\"= Green\")\n",
    "elif fav_color.upper()=='B':\n",
    "    print(fav_color,\"= Blue\")\n",
    "elif fav_color.upper()=='I':\n",
    "    print(fav_color,\"= Indigo\")\n",
    "elif fav_color.upper()=='V':\n",
    "    print(fav_color,\"= Violet\")\n",
    "else:\n",
    "    print('No match')\n",
    "\n"
   ]
  },
  {
   "cell_type": "code",
   "execution_count": 2,
   "metadata": {},
   "outputs": [
    {
     "name": "stdout",
     "output_type": "stream",
     "text": [
      "Enter your favourite rainbow color (ROYGBIV):o\n",
      "o = orange\n"
     ]
    }
   ],
   "source": [
    "# [ ] make the code above into a function rainbow_color() that has a string parameter, \n",
    "# get input and call the function and return the matching color as a string or \"no match\" message.\n",
    "# Call the function and print the return string.\n",
    "def rainbow_color(color):\n",
    "    if fav_color.upper()=='R':\n",
    "        return fav_color+\" = Red\" \n",
    "    elif fav_color.upper()=='O':\n",
    "        return fav_color+\" = orange\"\n",
    "    elif fav_color.upper()=='Y':\n",
    "        return fav_color+\" = Yellow\"\n",
    "    elif fav_color.upper()=='G':\n",
    "        return fav_color+\" = Green\"\n",
    "    elif fav_color.upper()=='B':\n",
    "        return fav_color+\" = Blue\"\n",
    "    elif fav_color.upper()=='I':\n",
    "        return fav_color+\" = Indigo\"\n",
    "    elif fav_color.upper()=='V':\n",
    "        return fav_color,\" = Violet\"\n",
    "    else:\n",
    "        return 'No match'\n",
    "fav_color = input(\"Enter your favourite rainbow color (ROYGBIV):\")\n",
    "output = rainbow_color(fav_color)\n",
    "print(output)"
   ]
  },
  {
   "cell_type": "markdown",
   "metadata": {},
   "source": [
    "# &nbsp;  \n",
    "**Create function age_20() that adds or subtracts 20 from your age for a return value based on current age** (use `if`) \n",
    "- call the funtion with user input and then use the return value in a sentence  \n",
    "example `age_20(25)` returns **5**: \n",
    "> \"5 years old, 20 years difference from now\""
   ]
  },
  {
   "cell_type": "code",
   "execution_count": 5,
   "metadata": {},
   "outputs": [
    {
     "name": "stdout",
     "output_type": "stream",
     "text": [
      "Enter your current age: 29\n",
      "9 years old,20 years difference from now\n"
     ]
    }
   ],
   "source": [
    "# [ ] complete age_20()\n",
    "def age_20(age):\n",
    "    return int(age)-20\n",
    "current_age = input(\"Enter your current age: \")\n",
    "output = age_20(current_age)\n",
    "print(output,\"years old,20 years difference from now\")"
   ]
  },
  {
   "cell_type": "markdown",
   "metadata": {},
   "source": [
    "**create a function rainbow_or_age that takes a string argument**\n",
    "- if argument is a digit return the value of calling age_20() with the str value cast as **`int`** \n",
    "- if argument is an alphabetical character return the value of calling rainbow_color() with the str\n",
    "- if neither return FALSE"
   ]
  },
  {
   "cell_type": "code",
   "execution_count": 16,
   "metadata": {},
   "outputs": [],
   "source": [
    "# [ ]  create rainbow_or_age()\n",
    "def rainbow_or_age(val):\n",
    "    if type(val) == int:\n",
    "        return age_20(int(val))\n",
    "    elif val.isalpha():\n",
    "        return rainbow_color(val)\n",
    "    else:\n",
    "        return False"
   ]
  },
  {
   "cell_type": "code",
   "execution_count": 20,
   "metadata": {},
   "outputs": [
    {
     "name": "stdout",
     "output_type": "stream",
     "text": [
      "Enter the number:456\n"
     ]
    },
    {
     "data": {
      "text/plain": [
       "436"
      ]
     },
     "execution_count": 20,
     "metadata": {},
     "output_type": "execute_result"
    }
   ],
   "source": [
    "# [ ]  add 2 numbers from input using a cast to integer and display the answer \n",
    "number1 = int(input(\"Enter the number:\"))\n",
    "rainbow_or_age(number1)"
   ]
  },
  {
   "cell_type": "code",
   "execution_count": 18,
   "metadata": {},
   "outputs": [
    {
     "name": "stdout",
     "output_type": "stream",
     "text": [
      "Enter first number:12\n",
      "Enter second number:2\n",
      "The answer is 24\n"
     ]
    }
   ],
   "source": [
    "# [ ] Multiply 2 numbers from input using cast and save the answer as part of a string \"the answer is...\"\n",
    "# display the string using print\n",
    "num1 = int(input(\"Enter first number:\"))\n",
    "num2 = int(input(\"Enter second number:\"))\n",
    "print(\"The answer is\",(num1*num2))"
   ]
  },
  {
   "cell_type": "code",
   "execution_count": 21,
   "metadata": {},
   "outputs": [
    {
     "name": "stdout",
     "output_type": "stream",
     "text": [
      "Enter first number:12\n",
      "Enter second number:2\n",
      "The average is 7.0\n"
     ]
    }
   ],
   "source": [
    "# [ ] get input of 2 numbers and display the average: (num1 + num2) divided by 2\n",
    "num1 = int(input(\"Enter first number:\"))\n",
    "num2 = int(input(\"Enter second number:\"))\n",
    "print(\"The average is\",(num1+num2)/2)"
   ]
  },
  {
   "cell_type": "code",
   "execution_count": 22,
   "metadata": {},
   "outputs": [
    {
     "name": "stdout",
     "output_type": "stream",
     "text": [
      "Enter first number:23\n",
      "Enter second number:11\n",
      "23 - 11 = 12\n"
     ]
    }
   ],
   "source": [
    "# [ ] get input of 2 numbers and subtract the largest from the smallest (use an if statement to see which is larger)\n",
    "# show the answer\n",
    "num1 = int(input(\"Enter first number:\"))\n",
    "num2 = int(input(\"Enter second number:\"))\n",
    "if num1>num2:\n",
    "    print(num1,\"-\",num2,\"=\",num1-num2)\n",
    "elif num2>num1:\n",
    "    print(num2,\"-\",num1,\"=\",num2-num1)\n",
    "else:\n",
    "    print('Error')"
   ]
  },
  {
   "cell_type": "code",
   "execution_count": 26,
   "metadata": {},
   "outputs": [
    {
     "name": "stdout",
     "output_type": "stream",
     "text": [
      "Enter first number:45\n",
      "Enter second number:3\n",
      "45 / 3 = 15\n"
     ]
    }
   ],
   "source": [
    "# [ ] Divide a larger number by a smaller number and print the integer part of the result\n",
    "# don't divide by zero! if a zero is input make the result zero\n",
    "# [ ] cast the answer to an integer to cut off the decimals and print the result\n",
    "num1 = int(input(\"Enter first number:\"))\n",
    "num2 = int(input(\"Enter second number:\"))\n",
    "if num1 == 0:\n",
    "    print(0)\n",
    "elif num2==0:\n",
    "    print(0)\n",
    "elif num1>num2:\n",
    "    print(num1,\"/\",num2,\"=\",int(num1/num2))\n",
    "elif num2>num1:\n",
    "    print(num2,\"/\",num1,\"=\",int(num2/num1))\n",
    "else:\n",
    "    print('Error')\n"
   ]
  },
  {
   "cell_type": "markdown",
   "metadata": {},
   "source": [
    "[Terms of use](http://go.microsoft.com/fwlink/?LinkID=206977) &nbsp; [Privacy & cookies](https://go.microsoft.com/fwlink/?LinkId=521839) &nbsp; © 2017 Microsoft"
   ]
  }
 ],
 "metadata": {
  "anaconda-cloud": {},
  "kernelspec": {
   "display_name": "Python 3",
   "language": "python",
   "name": "python3"
  },
  "language_info": {
   "codemirror_mode": {
    "name": "ipython",
    "version": 3
   },
   "file_extension": ".py",
   "mimetype": "text/x-python",
   "name": "python",
   "nbconvert_exporter": "python",
   "pygments_lexer": "ipython3",
   "version": "3.8.3"
  }
 },
 "nbformat": 4,
 "nbformat_minor": 1
}
